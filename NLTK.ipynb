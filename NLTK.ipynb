{
 "cells": [
  {
   "cell_type": "markdown",
   "id": "36011683",
   "metadata": {},
   "source": [
    "#  NLTK"
   ]
  },
  {
   "cell_type": "code",
   "execution_count": 1,
   "id": "1d1fd58c",
   "metadata": {},
   "outputs": [],
   "source": [
    "import nltk"
   ]
  },
  {
   "cell_type": "code",
   "execution_count": 2,
   "id": "a0de3f87",
   "metadata": {},
   "outputs": [
    {
     "name": "stdout",
     "output_type": "stream",
     "text": [
      "Collecting the\n",
      "  Using cached the-0.1.5.tar.gz (10 kB)\n",
      "  Preparing metadata (setup.py): started\n",
      "  Preparing metadata (setup.py): finished with status 'done'\n",
      "Requirement already satisfied: NLTK in c:\\users\\arvin\\anaconda3\\lib\\site-packages (3.8.1)\n",
      "Collecting tagger\n",
      "  Using cached tagger-0.3.1.tar.gz (15 kB)\n",
      "  Preparing metadata (setup.py): started\n",
      "  Preparing metadata (setup.py): finished with status 'error'\n"
     ]
    },
    {
     "name": "stderr",
     "output_type": "stream",
     "text": [
      "  error: subprocess-exited-with-error\n",
      "  \n",
      "  python setup.py egg_info did not run successfully.\n",
      "  exit code: 1\n",
      "  \n",
      "  [3 lines of output]\n",
      "  error in tagger setup command: 'install_requires' must be a string or list of strings containing valid project/version requirement specifiers; Expected end or semicolon (after version specifier)\n",
      "      rdflib==2.3.1events\n",
      "            ~~~~~~~^\n",
      "  [end of output]\n",
      "  \n",
      "  note: This error originates from a subprocess, and is likely not a problem with pip.\n",
      "error: metadata-generation-failed\n",
      "\n",
      "Encountered error while generating package metadata.\n",
      "\n",
      "See above for output.\n",
      "\n",
      "note: This is an issue with the package mentioned above, not pip.\n",
      "hint: See above for details.\n"
     ]
    }
   ],
   "source": [
    "!pip install the NLTK tagger data"
   ]
  },
  {
   "cell_type": "code",
   "execution_count": 3,
   "id": "4fdfb9a8",
   "metadata": {},
   "outputs": [
    {
     "name": "stderr",
     "output_type": "stream",
     "text": [
      "[nltk_data] Downloading package punkt to\n",
      "[nltk_data]     C:\\Users\\arvin\\AppData\\Roaming\\nltk_data...\n",
      "[nltk_data]   Package punkt is already up-to-date!\n"
     ]
    },
    {
     "data": {
      "text/plain": [
       "True"
      ]
     },
     "execution_count": 3,
     "metadata": {},
     "output_type": "execute_result"
    }
   ],
   "source": [
    "nltk.download('punkt')"
   ]
  },
  {
   "cell_type": "code",
   "execution_count": 2,
   "id": "9bd974a2",
   "metadata": {},
   "outputs": [],
   "source": [
    "text = \"\"\"Data science is an interdisciplinary field that uses scientific methods, processes, algorithms and systems to extract knowledge and insights from noisy, structured and unstructured data,[1][2] and apply knowledge and actionable insights from data across a broad range of application domains. Data science is related to data mining, machine learning and big data.\n",
    "\n",
    "Data science is a \"concept to unify statistics, data analysis, informatics, and their related methods\" in order to \"understand and analyze actual phenomena\" with data.[3] It uses techniques and theories drawn from many fields within the context of mathematics, statistics, computer science, information science, and domain knowledge. However, data science is different from computer science and information science. Turing Award winner Jim Gray imagined data science as a \"fourth paradigm\" of science (empirical, theoretical, computational, and now data-driven) and asserted that \"everything about science is changing because of the impact of information technology\" and the data deluge.[4][5]\n",
    "\n",
    "A data scientist is someone who creates programming code, and combines it with statistical knowledge to create insights on business data.[6]\"\"\""
   ]
  },
  {
   "cell_type": "code",
   "execution_count": 3,
   "id": "98930a75",
   "metadata": {},
   "outputs": [
    {
     "data": {
      "text/plain": [
       "['Data science is an interdisciplinary field that uses scientific methods, processes, algorithms and systems to extract knowledge and insights from noisy, structured and unstructured data,[1][2] and apply knowledge and actionable insights from data across a broad range of application domains.',\n",
       " 'Data science is related to data mining, machine learning and big data.',\n",
       " 'Data science is a \"concept to unify statistics, data analysis, informatics, and their related methods\" in order to \"understand and analyze actual phenomena\" with data.',\n",
       " '[3] It uses techniques and theories drawn from many fields within the context of mathematics, statistics, computer science, information science, and domain knowledge.',\n",
       " 'However, data science is different from computer science and information science.',\n",
       " 'Turing Award winner Jim Gray imagined data science as a \"fourth paradigm\" of science (empirical, theoretical, computational, and now data-driven) and asserted that \"everything about science is changing because of the impact of information technology\" and the data deluge.',\n",
       " '[4][5]\\n\\nA data scientist is someone who creates programming code, and combines it with statistical knowledge to create insights on business data.',\n",
       " '[6]']"
      ]
     },
     "execution_count": 3,
     "metadata": {},
     "output_type": "execute_result"
    }
   ],
   "source": [
    "nltk.sent_tokenize(text) # sentence tokenize break the sentence whenever full stop appears"
   ]
  },
  {
   "cell_type": "code",
   "execution_count": 4,
   "id": "725ec507",
   "metadata": {},
   "outputs": [
    {
     "data": {
      "text/plain": [
       "'Data science is a \"concept to unify statistics, data analysis, informatics, and their related methods\" in order to \"understand and analyze actual phenomena\" with data.'"
      ]
     },
     "execution_count": 4,
     "metadata": {},
     "output_type": "execute_result"
    }
   ],
   "source": [
    "nltk.sent_tokenize(text)[2]"
   ]
  },
  {
   "cell_type": "code",
   "execution_count": 5,
   "id": "5f57ee34",
   "metadata": {},
   "outputs": [
    {
     "data": {
      "text/plain": [
       "['Data',\n",
       " 'science',\n",
       " 'is',\n",
       " 'an',\n",
       " 'interdisciplinary',\n",
       " 'field',\n",
       " 'that',\n",
       " 'uses',\n",
       " 'scientific',\n",
       " 'methods',\n",
       " ',',\n",
       " 'processes',\n",
       " ',',\n",
       " 'algorithms',\n",
       " 'and',\n",
       " 'systems',\n",
       " 'to',\n",
       " 'extract',\n",
       " 'knowledge',\n",
       " 'and',\n",
       " 'insights',\n",
       " 'from',\n",
       " 'noisy',\n",
       " ',',\n",
       " 'structured',\n",
       " 'and',\n",
       " 'unstructured',\n",
       " 'data',\n",
       " ',',\n",
       " '[',\n",
       " '1',\n",
       " ']',\n",
       " '[',\n",
       " '2',\n",
       " ']',\n",
       " 'and',\n",
       " 'apply',\n",
       " 'knowledge',\n",
       " 'and',\n",
       " 'actionable',\n",
       " 'insights',\n",
       " 'from',\n",
       " 'data',\n",
       " 'across',\n",
       " 'a',\n",
       " 'broad',\n",
       " 'range',\n",
       " 'of',\n",
       " 'application',\n",
       " 'domains',\n",
       " '.',\n",
       " 'Data',\n",
       " 'science',\n",
       " 'is',\n",
       " 'related',\n",
       " 'to',\n",
       " 'data',\n",
       " 'mining',\n",
       " ',',\n",
       " 'machine',\n",
       " 'learning',\n",
       " 'and',\n",
       " 'big',\n",
       " 'data',\n",
       " '.',\n",
       " 'Data',\n",
       " 'science',\n",
       " 'is',\n",
       " 'a',\n",
       " '``',\n",
       " 'concept',\n",
       " 'to',\n",
       " 'unify',\n",
       " 'statistics',\n",
       " ',',\n",
       " 'data',\n",
       " 'analysis',\n",
       " ',',\n",
       " 'informatics',\n",
       " ',',\n",
       " 'and',\n",
       " 'their',\n",
       " 'related',\n",
       " 'methods',\n",
       " \"''\",\n",
       " 'in',\n",
       " 'order',\n",
       " 'to',\n",
       " '``',\n",
       " 'understand',\n",
       " 'and',\n",
       " 'analyze',\n",
       " 'actual',\n",
       " 'phenomena',\n",
       " \"''\",\n",
       " 'with',\n",
       " 'data',\n",
       " '.',\n",
       " '[',\n",
       " '3',\n",
       " ']',\n",
       " 'It',\n",
       " 'uses',\n",
       " 'techniques',\n",
       " 'and',\n",
       " 'theories',\n",
       " 'drawn',\n",
       " 'from',\n",
       " 'many',\n",
       " 'fields',\n",
       " 'within',\n",
       " 'the',\n",
       " 'context',\n",
       " 'of',\n",
       " 'mathematics',\n",
       " ',',\n",
       " 'statistics',\n",
       " ',',\n",
       " 'computer',\n",
       " 'science',\n",
       " ',',\n",
       " 'information',\n",
       " 'science',\n",
       " ',',\n",
       " 'and',\n",
       " 'domain',\n",
       " 'knowledge',\n",
       " '.',\n",
       " 'However',\n",
       " ',',\n",
       " 'data',\n",
       " 'science',\n",
       " 'is',\n",
       " 'different',\n",
       " 'from',\n",
       " 'computer',\n",
       " 'science',\n",
       " 'and',\n",
       " 'information',\n",
       " 'science',\n",
       " '.',\n",
       " 'Turing',\n",
       " 'Award',\n",
       " 'winner',\n",
       " 'Jim',\n",
       " 'Gray',\n",
       " 'imagined',\n",
       " 'data',\n",
       " 'science',\n",
       " 'as',\n",
       " 'a',\n",
       " '``',\n",
       " 'fourth',\n",
       " 'paradigm',\n",
       " \"''\",\n",
       " 'of',\n",
       " 'science',\n",
       " '(',\n",
       " 'empirical',\n",
       " ',',\n",
       " 'theoretical',\n",
       " ',',\n",
       " 'computational',\n",
       " ',',\n",
       " 'and',\n",
       " 'now',\n",
       " 'data-driven',\n",
       " ')',\n",
       " 'and',\n",
       " 'asserted',\n",
       " 'that',\n",
       " '``',\n",
       " 'everything',\n",
       " 'about',\n",
       " 'science',\n",
       " 'is',\n",
       " 'changing',\n",
       " 'because',\n",
       " 'of',\n",
       " 'the',\n",
       " 'impact',\n",
       " 'of',\n",
       " 'information',\n",
       " 'technology',\n",
       " \"''\",\n",
       " 'and',\n",
       " 'the',\n",
       " 'data',\n",
       " 'deluge',\n",
       " '.',\n",
       " '[',\n",
       " '4',\n",
       " ']',\n",
       " '[',\n",
       " '5',\n",
       " ']',\n",
       " 'A',\n",
       " 'data',\n",
       " 'scientist',\n",
       " 'is',\n",
       " 'someone',\n",
       " 'who',\n",
       " 'creates',\n",
       " 'programming',\n",
       " 'code',\n",
       " ',',\n",
       " 'and',\n",
       " 'combines',\n",
       " 'it',\n",
       " 'with',\n",
       " 'statistical',\n",
       " 'knowledge',\n",
       " 'to',\n",
       " 'create',\n",
       " 'insights',\n",
       " 'on',\n",
       " 'business',\n",
       " 'data',\n",
       " '.',\n",
       " '[',\n",
       " '6',\n",
       " ']']"
      ]
     },
     "execution_count": 5,
     "metadata": {},
     "output_type": "execute_result"
    }
   ],
   "source": [
    "nltk.word_tokenize(text)"
   ]
  },
  {
   "cell_type": "code",
   "execution_count": 6,
   "id": "a1fe5323",
   "metadata": {},
   "outputs": [],
   "source": [
    "text1 = \"we are trying to test nltk lib , in ineuron class \""
   ]
  },
  {
   "cell_type": "code",
   "execution_count": 7,
   "id": "edb1205d",
   "metadata": {},
   "outputs": [
    {
     "data": {
      "text/plain": [
       "[('we', 'PRP'),\n",
       " ('are', 'VBP'),\n",
       " ('trying', 'VBG'),\n",
       " ('to', 'TO'),\n",
       " ('test', 'VB'),\n",
       " ('nltk', 'JJ'),\n",
       " ('lib', 'NN'),\n",
       " (',', ','),\n",
       " ('in', 'IN'),\n",
       " ('ineuron', 'NN'),\n",
       " ('class', 'NN')]"
      ]
     },
     "execution_count": 7,
     "metadata": {},
     "output_type": "execute_result"
    }
   ],
   "source": [
    "nltk.pos_tag(nltk.word_tokenize(text1))"
   ]
  },
  {
   "cell_type": "code",
   "execution_count": 8,
   "id": "016f7ff6",
   "metadata": {},
   "outputs": [],
   "source": [
    "tokens = text1.split()"
   ]
  },
  {
   "cell_type": "code",
   "execution_count": 9,
   "id": "007464b9",
   "metadata": {},
   "outputs": [
    {
     "data": {
      "text/plain": [
       "[('we', 'PRP'),\n",
       " ('are', 'VBP'),\n",
       " ('trying', 'VBG'),\n",
       " ('to', 'TO'),\n",
       " ('test', 'VB'),\n",
       " ('nltk', 'JJ'),\n",
       " ('lib', 'NN'),\n",
       " (',', ','),\n",
       " ('in', 'IN'),\n",
       " ('ineuron', 'NN'),\n",
       " ('class', 'NN')]"
      ]
     },
     "execution_count": 9,
     "metadata": {},
     "output_type": "execute_result"
    }
   ],
   "source": [
    "nltk.pos_tag(tokens)"
   ]
  },
  {
   "cell_type": "code",
   "execution_count": 10,
   "id": "1e13ad8e",
   "metadata": {},
   "outputs": [
    {
     "name": "stdout",
     "output_type": "stream",
     "text": [
      "we: PRP\n",
      "are: VBP\n",
      "trying: VBG\n",
      "to: TO\n",
      "test: VB\n",
      "nltk: JJ\n",
      "lib: NN\n",
      ",: ,\n",
      "in: IN\n",
      "ineuron: NN\n",
      "class: NN\n"
     ]
    }
   ],
   "source": [
    "pos_tags = nltk.pos_tag(tokens)\n",
    "\n",
    "# Print the POS tags\n",
    "for word, tag in pos_tags:\n",
    "    print(f\"{word}: {tag}\")"
   ]
  },
  {
   "cell_type": "code",
   "execution_count": null,
   "id": "31a11a06",
   "metadata": {},
   "outputs": [
    {
     "name": "stdout",
     "output_type": "stream",
     "text": [
      "(S\n",
      "  we/PRP\n",
      "  are/VBP\n",
      "  trying/VBG\n",
      "  to/TO\n",
      "  test/VB\n",
      "  nltk/JJ\n",
      "  (MN lib/NN)\n",
      "  ,/,\n",
      "  in/IN\n",
      "  (MN ineuron/NN)\n",
      "  (MN class/NN))\n"
     ]
    }
   ],
   "source": [
    "my_node=\"MN:{<VBG>*<NN>}\"\n",
    "chunk=nltk.RegexpParser(my_node)\n",
    "result=chunk.parse(pos_tags)\n",
    "print(result)\n",
    "result.draw()"
   ]
  },
  {
   "cell_type": "code",
   "execution_count": 11,
   "id": "d4ed4896",
   "metadata": {},
   "outputs": [
    {
     "data": {
      "text/plain": [
       "[('we', 'PRP'),\n",
       " ('are', 'VBP'),\n",
       " ('trying', 'VBG'),\n",
       " ('to', 'TO'),\n",
       " ('test', 'VB'),\n",
       " ('nltk', 'JJ'),\n",
       " ('lib', 'NN'),\n",
       " (',', ','),\n",
       " ('in', 'IN'),\n",
       " ('ineuron', 'NN'),\n",
       " ('class', 'NN')]"
      ]
     },
     "execution_count": 11,
     "metadata": {},
     "output_type": "execute_result"
    }
   ],
   "source": [
    "nltk.pos_tag(nltk.word_tokenize(text1))"
   ]
  },
  {
   "cell_type": "code",
   "execution_count": 12,
   "id": "e4e1d6d3",
   "metadata": {},
   "outputs": [
    {
     "name": "stderr",
     "output_type": "stream",
     "text": [
      "[nltk_data] Downloading package averaged_perceptron_tagger to\n",
      "[nltk_data]     C:\\Users\\arvin\\AppData\\Roaming\\nltk_data...\n",
      "[nltk_data]   Package averaged_perceptron_tagger is already up-to-\n",
      "[nltk_data]       date!\n"
     ]
    },
    {
     "data": {
      "text/plain": [
       "True"
      ]
     },
     "execution_count": 12,
     "metadata": {},
     "output_type": "execute_result"
    }
   ],
   "source": [
    "nltk.download('averaged_perceptron_tagger')"
   ]
  },
  {
   "cell_type": "code",
   "execution_count": 13,
   "id": "d650c6f2",
   "metadata": {},
   "outputs": [],
   "source": [
    "from nltk.corpus import stopwords"
   ]
  },
  {
   "cell_type": "code",
   "execution_count": 14,
   "id": "b32c6273",
   "metadata": {},
   "outputs": [
    {
     "data": {
      "text/plain": [
       "['i',\n",
       " 'me',\n",
       " 'my',\n",
       " 'myself',\n",
       " 'we',\n",
       " 'our',\n",
       " 'ours',\n",
       " 'ourselves',\n",
       " 'you',\n",
       " \"you're\",\n",
       " \"you've\",\n",
       " \"you'll\",\n",
       " \"you'd\",\n",
       " 'your',\n",
       " 'yours',\n",
       " 'yourself',\n",
       " 'yourselves',\n",
       " 'he',\n",
       " 'him',\n",
       " 'his',\n",
       " 'himself',\n",
       " 'she',\n",
       " \"she's\",\n",
       " 'her',\n",
       " 'hers',\n",
       " 'herself',\n",
       " 'it',\n",
       " \"it's\",\n",
       " 'its',\n",
       " 'itself',\n",
       " 'they',\n",
       " 'them',\n",
       " 'their',\n",
       " 'theirs',\n",
       " 'themselves',\n",
       " 'what',\n",
       " 'which',\n",
       " 'who',\n",
       " 'whom',\n",
       " 'this',\n",
       " 'that',\n",
       " \"that'll\",\n",
       " 'these',\n",
       " 'those',\n",
       " 'am',\n",
       " 'is',\n",
       " 'are',\n",
       " 'was',\n",
       " 'were',\n",
       " 'be',\n",
       " 'been',\n",
       " 'being',\n",
       " 'have',\n",
       " 'has',\n",
       " 'had',\n",
       " 'having',\n",
       " 'do',\n",
       " 'does',\n",
       " 'did',\n",
       " 'doing',\n",
       " 'a',\n",
       " 'an',\n",
       " 'the',\n",
       " 'and',\n",
       " 'but',\n",
       " 'if',\n",
       " 'or',\n",
       " 'because',\n",
       " 'as',\n",
       " 'until',\n",
       " 'while',\n",
       " 'of',\n",
       " 'at',\n",
       " 'by',\n",
       " 'for',\n",
       " 'with',\n",
       " 'about',\n",
       " 'against',\n",
       " 'between',\n",
       " 'into',\n",
       " 'through',\n",
       " 'during',\n",
       " 'before',\n",
       " 'after',\n",
       " 'above',\n",
       " 'below',\n",
       " 'to',\n",
       " 'from',\n",
       " 'up',\n",
       " 'down',\n",
       " 'in',\n",
       " 'out',\n",
       " 'on',\n",
       " 'off',\n",
       " 'over',\n",
       " 'under',\n",
       " 'again',\n",
       " 'further',\n",
       " 'then',\n",
       " 'once',\n",
       " 'here',\n",
       " 'there',\n",
       " 'when',\n",
       " 'where',\n",
       " 'why',\n",
       " 'how',\n",
       " 'all',\n",
       " 'any',\n",
       " 'both',\n",
       " 'each',\n",
       " 'few',\n",
       " 'more',\n",
       " 'most',\n",
       " 'other',\n",
       " 'some',\n",
       " 'such',\n",
       " 'no',\n",
       " 'nor',\n",
       " 'not',\n",
       " 'only',\n",
       " 'own',\n",
       " 'same',\n",
       " 'so',\n",
       " 'than',\n",
       " 'too',\n",
       " 'very',\n",
       " 's',\n",
       " 't',\n",
       " 'can',\n",
       " 'will',\n",
       " 'just',\n",
       " 'don',\n",
       " \"don't\",\n",
       " 'should',\n",
       " \"should've\",\n",
       " 'now',\n",
       " 'd',\n",
       " 'll',\n",
       " 'm',\n",
       " 'o',\n",
       " 're',\n",
       " 've',\n",
       " 'y',\n",
       " 'ain',\n",
       " 'aren',\n",
       " \"aren't\",\n",
       " 'couldn',\n",
       " \"couldn't\",\n",
       " 'didn',\n",
       " \"didn't\",\n",
       " 'doesn',\n",
       " \"doesn't\",\n",
       " 'hadn',\n",
       " \"hadn't\",\n",
       " 'hasn',\n",
       " \"hasn't\",\n",
       " 'haven',\n",
       " \"haven't\",\n",
       " 'isn',\n",
       " \"isn't\",\n",
       " 'ma',\n",
       " 'mightn',\n",
       " \"mightn't\",\n",
       " 'mustn',\n",
       " \"mustn't\",\n",
       " 'needn',\n",
       " \"needn't\",\n",
       " 'shan',\n",
       " \"shan't\",\n",
       " 'shouldn',\n",
       " \"shouldn't\",\n",
       " 'wasn',\n",
       " \"wasn't\",\n",
       " 'weren',\n",
       " \"weren't\",\n",
       " 'won',\n",
       " \"won't\",\n",
       " 'wouldn',\n",
       " \"wouldn't\"]"
      ]
     },
     "execution_count": 14,
     "metadata": {},
     "output_type": "execute_result"
    }
   ],
   "source": [
    "stopwords.words('english')"
   ]
  },
  {
   "cell_type": "code",
   "execution_count": 15,
   "id": "da420eab",
   "metadata": {},
   "outputs": [
    {
     "name": "stdout",
     "output_type": "stream",
     "text": [
      "!\"#$%&'()*+,-./:;<=>?@[\\]^_`{|}~\n"
     ]
    }
   ],
   "source": [
    "import string\n",
    "punct=string.punctuation\n",
    "print(punct)"
   ]
  },
  {
   "cell_type": "code",
   "execution_count": 16,
   "id": "274a69b8",
   "metadata": {},
   "outputs": [
    {
     "name": "stderr",
     "output_type": "stream",
     "text": [
      "[nltk_data] Downloading package stopwords to\n",
      "[nltk_data]     C:\\Users\\arvin\\AppData\\Roaming\\nltk_data...\n",
      "[nltk_data]   Package stopwords is already up-to-date!\n"
     ]
    },
    {
     "data": {
      "text/plain": [
       "True"
      ]
     },
     "execution_count": 16,
     "metadata": {},
     "output_type": "execute_result"
    }
   ],
   "source": [
    "nltk.download('stopwords')"
   ]
  },
  {
   "cell_type": "code",
   "execution_count": 17,
   "id": "06af3827",
   "metadata": {},
   "outputs": [],
   "source": [
    "stop_word=stopwords.words('english')"
   ]
  },
  {
   "cell_type": "code",
   "execution_count": 18,
   "id": "46448dc1",
   "metadata": {},
   "outputs": [],
   "source": [
    "import string\n",
    "punch=string.punctuation"
   ]
  },
  {
   "cell_type": "code",
   "execution_count": 19,
   "id": "d25bfc2d",
   "metadata": {},
   "outputs": [],
   "source": [
    "l = []\n",
    "for word in nltk.word_tokenize(text):\n",
    "    if word not in punch:\n",
    "        if word not in stop_word :\n",
    "            l.append(word)\n",
    "            "
   ]
  },
  {
   "cell_type": "code",
   "execution_count": 20,
   "id": "f67f6a7b",
   "metadata": {},
   "outputs": [
    {
     "name": "stdout",
     "output_type": "stream",
     "text": [
      "['Data', 'science', 'interdisciplinary', 'field', 'uses', 'scientific', 'methods', 'processes', 'algorithms', 'systems', 'extract', 'knowledge', 'insights', 'noisy', 'structured', 'unstructured', 'data', '1', '2', 'apply', 'knowledge', 'actionable', 'insights', 'data', 'across', 'broad', 'range', 'application', 'domains', 'Data', 'science', 'related', 'data', 'mining', 'machine', 'learning', 'big', 'data', 'Data', 'science', '``', 'concept', 'unify', 'statistics', 'data', 'analysis', 'informatics', 'related', 'methods', \"''\", 'order', '``', 'understand', 'analyze', 'actual', 'phenomena', \"''\", 'data', '3', 'It', 'uses', 'techniques', 'theories', 'drawn', 'many', 'fields', 'within', 'context', 'mathematics', 'statistics', 'computer', 'science', 'information', 'science', 'domain', 'knowledge', 'However', 'data', 'science', 'different', 'computer', 'science', 'information', 'science', 'Turing', 'Award', 'winner', 'Jim', 'Gray', 'imagined', 'data', 'science', '``', 'fourth', 'paradigm', \"''\", 'science', 'empirical', 'theoretical', 'computational', 'data-driven', 'asserted', '``', 'everything', 'science', 'changing', 'impact', 'information', 'technology', \"''\", 'data', 'deluge', '4', '5', 'A', 'data', 'scientist', 'someone', 'creates', 'programming', 'code', 'combines', 'statistical', 'knowledge', 'create', 'insights', 'business', 'data', '6']\n"
     ]
    }
   ],
   "source": [
    "import nltk\n",
    "from nltk.corpus import stopwords\n",
    "stop=stopwords.words('english')\n",
    "pun=string.punctuation\n",
    "\n",
    "data=\"\"\"Data science is an interdisciplinary field that uses scientific methods, processes, algorithms and systems to extract knowledge and insights from noisy, structured and unstructured data,[1][2] and apply knowledge and actionable insights from data across a broad range of application domains. Data science is related to data mining, machine learning and big data.\n",
    "\n",
    "Data science is a \"concept to unify statistics, data analysis, informatics, and their related methods\" in order to \"understand and analyze actual phenomena\" with data.[3] It uses techniques and theories drawn from many fields within the context of mathematics, statistics, computer science, information science, and domain knowledge. However, data science is different from computer science and information science. Turing Award winner Jim Gray imagined data science as a \"fourth paradigm\" of science (empirical, theoretical, computational, and now data-driven) and asserted that \"everything about science is changing because of the impact of information technology\" and the data deluge.[4][5]\n",
    "\n",
    "A data scientist is someone who creates programming code, and combines it with statistical knowledge to create insights on business data.[6]\"\"\"\n",
    "\n",
    "clean=[]\n",
    "for words in nltk.word_tokenize(data):\n",
    "    if words not in pun:\n",
    "        if words not in stop:\n",
    "            clean.append(words)\n",
    "            \n",
    "print(clean)"
   ]
  },
  {
   "cell_type": "code",
   "execution_count": 21,
   "id": "94c0bd65",
   "metadata": {},
   "outputs": [
    {
     "data": {
      "text/plain": [
       "[('Data', 'NNP'),\n",
       " ('science', 'NN'),\n",
       " ('interdisciplinary', 'JJ'),\n",
       " ('field', 'NN'),\n",
       " ('uses', 'VBZ'),\n",
       " ('scientific', 'JJ'),\n",
       " ('methods', 'NNS'),\n",
       " ('processes', 'VBZ'),\n",
       " ('algorithms', 'JJ'),\n",
       " ('systems', 'NNS'),\n",
       " ('extract', 'JJ'),\n",
       " ('knowledge', 'JJ'),\n",
       " ('insights', 'NNS'),\n",
       " ('noisy', 'RB'),\n",
       " ('structured', 'VBD'),\n",
       " ('unstructured', 'JJ'),\n",
       " ('data', 'NNS'),\n",
       " ('1', 'CD'),\n",
       " ('2', 'CD'),\n",
       " ('apply', 'NN'),\n",
       " ('knowledge', 'NN'),\n",
       " ('actionable', 'JJ'),\n",
       " ('insights', 'NNS'),\n",
       " ('data', 'NNS'),\n",
       " ('across', 'IN'),\n",
       " ('broad', 'JJ'),\n",
       " ('range', 'NN'),\n",
       " ('application', 'NN'),\n",
       " ('domains', 'VBZ'),\n",
       " ('Data', 'NNP'),\n",
       " ('science', 'NN'),\n",
       " ('related', 'VBN'),\n",
       " ('data', 'NNS'),\n",
       " ('mining', 'NN'),\n",
       " ('machine', 'NN'),\n",
       " ('learning', 'VBG'),\n",
       " ('big', 'JJ'),\n",
       " ('data', 'NNS'),\n",
       " ('Data', 'NNP'),\n",
       " ('science', 'NN'),\n",
       " ('``', '``'),\n",
       " ('concept', 'JJ'),\n",
       " ('unify', 'JJ'),\n",
       " ('statistics', 'NNS'),\n",
       " ('data', 'NNS'),\n",
       " ('analysis', 'NN'),\n",
       " ('informatics', 'NNS'),\n",
       " ('related', 'JJ'),\n",
       " ('methods', 'NNS'),\n",
       " (\"''\", \"''\"),\n",
       " ('order', 'NN'),\n",
       " ('``', '``'),\n",
       " ('understand', 'JJ'),\n",
       " ('analyze', 'NN'),\n",
       " ('actual', 'JJ'),\n",
       " ('phenomena', 'NN'),\n",
       " (\"''\", \"''\"),\n",
       " ('data', 'NNS'),\n",
       " ('3', 'CD'),\n",
       " ('It', 'PRP'),\n",
       " ('uses', 'VBZ'),\n",
       " ('techniques', 'NNS'),\n",
       " ('theories', 'NNS'),\n",
       " ('drawn', 'VBP'),\n",
       " ('many', 'JJ'),\n",
       " ('fields', 'NNS'),\n",
       " ('within', 'IN'),\n",
       " ('context', 'NN'),\n",
       " ('mathematics', 'NNS'),\n",
       " ('statistics', 'NNS'),\n",
       " ('computer', 'NN'),\n",
       " ('science', 'NN'),\n",
       " ('information', 'NN'),\n",
       " ('science', 'NN'),\n",
       " ('domain', 'NN'),\n",
       " ('knowledge', 'NN'),\n",
       " ('However', 'RB'),\n",
       " ('data', 'VBZ'),\n",
       " ('science', 'NN'),\n",
       " ('different', 'JJ'),\n",
       " ('computer', 'NN'),\n",
       " ('science', 'NN'),\n",
       " ('information', 'NN'),\n",
       " ('science', 'NN'),\n",
       " ('Turing', 'NNP'),\n",
       " ('Award', 'NNP'),\n",
       " ('winner', 'NN'),\n",
       " ('Jim', 'NNP'),\n",
       " ('Gray', 'NNP'),\n",
       " ('imagined', 'VBD'),\n",
       " ('data', 'NNS'),\n",
       " ('science', 'NN'),\n",
       " ('``', '``'),\n",
       " ('fourth', 'JJ'),\n",
       " ('paradigm', 'NN'),\n",
       " (\"''\", \"''\"),\n",
       " ('science', 'NN'),\n",
       " ('empirical', 'JJ'),\n",
       " ('theoretical', 'JJ'),\n",
       " ('computational', 'JJ'),\n",
       " ('data-driven', 'NN'),\n",
       " ('asserted', 'VBD'),\n",
       " ('``', '``'),\n",
       " ('everything', 'NN'),\n",
       " ('science', 'NN'),\n",
       " ('changing', 'VBG'),\n",
       " ('impact', 'JJ'),\n",
       " ('information', 'NN'),\n",
       " ('technology', 'NN'),\n",
       " (\"''\", \"''\"),\n",
       " ('data', 'NNS'),\n",
       " ('deluge', 'VBD'),\n",
       " ('4', 'CD'),\n",
       " ('5', 'CD'),\n",
       " ('A', 'NNP'),\n",
       " ('data', 'NNS'),\n",
       " ('scientist', 'NN'),\n",
       " ('someone', 'NN'),\n",
       " ('creates', 'VBZ'),\n",
       " ('programming', 'VBG'),\n",
       " ('code', 'NN'),\n",
       " ('combines', 'NNS'),\n",
       " ('statistical', 'JJ'),\n",
       " ('knowledge', 'NN'),\n",
       " ('create', 'NN'),\n",
       " ('insights', 'NNS'),\n",
       " ('business', 'NN'),\n",
       " ('data', 'NNS'),\n",
       " ('6', 'CD')]"
      ]
     },
     "execution_count": 21,
     "metadata": {},
     "output_type": "execute_result"
    }
   ],
   "source": [
    "nltk.pos_tag(clean)"
   ]
  },
  {
   "cell_type": "code",
   "execution_count": 22,
   "id": "62a796dd",
   "metadata": {},
   "outputs": [],
   "source": [
    "from nltk.stem import PorterStemmer, LancasterStemmer, SnowballStemmer"
   ]
  },
  {
   "cell_type": "code",
   "execution_count": 23,
   "id": "da5bfac7",
   "metadata": {},
   "outputs": [
    {
     "ename": "TypeError",
     "evalue": "SnowballStemmer.__init__() missing 1 required positional argument: 'language'",
     "output_type": "error",
     "traceback": [
      "\u001b[1;31m---------------------------------------------------------------------------\u001b[0m",
      "\u001b[1;31mTypeError\u001b[0m                                 Traceback (most recent call last)",
      "Cell \u001b[1;32mIn[23], line 3\u001b[0m\n\u001b[0;32m      1\u001b[0m porter\u001b[38;5;241m=\u001b[39mPorterStemmer()\n\u001b[0;32m      2\u001b[0m lancer\u001b[38;5;241m=\u001b[39mLancasterStemmer()\n\u001b[1;32m----> 3\u001b[0m snowball\u001b[38;5;241m=\u001b[39mSnowballStemmer()\n",
      "\u001b[1;31mTypeError\u001b[0m: SnowballStemmer.__init__() missing 1 required positional argument: 'language'"
     ]
    }
   ],
   "source": [
    "porter=PorterStemmer()\n",
    "lancer=LancasterStemmer()\n",
    "snowball=SnowballStemmer()"
   ]
  },
  {
   "cell_type": "code",
   "execution_count": 25,
   "id": "6fae5e33",
   "metadata": {},
   "outputs": [],
   "source": [
    "snowball=SnowballStemmer('english')"
   ]
  },
  {
   "cell_type": "code",
   "execution_count": 26,
   "id": "b95a18f4",
   "metadata": {},
   "outputs": [
    {
     "name": "stdout",
     "output_type": "stream",
     "text": [
      "i was go to the offic on my bike when i saw a car pass by hit the tree\n",
      "i wa go to the offic on my bike when i saw a car pass by hit the tree\n",
      "i was going to the off on my bik when i saw a car pass by hit the tre\n"
     ]
    }
   ],
   "source": [
    "sen='I was going to the office on my bike when i saw a car passing by hit the tree'\n",
    "token=list(nltk.word_tokenize(sen))\n",
    "for stemmer in (snowball,porter,lancer):\n",
    "    stemm=[stemmer.stem(i) for i in token]\n",
    "    print(' '.join(stemm))\n"
   ]
  },
  {
   "cell_type": "code",
   "execution_count": 27,
   "id": "1f1c9edc",
   "metadata": {},
   "outputs": [
    {
     "data": {
      "text/plain": [
       "'run'"
      ]
     },
     "execution_count": 27,
     "metadata": {},
     "output_type": "execute_result"
    }
   ],
   "source": [
    "porter.stem('running') # stem chop of the words into base word"
   ]
  },
  {
   "cell_type": "code",
   "execution_count": 28,
   "id": "ac450f5a",
   "metadata": {},
   "outputs": [
    {
     "data": {
      "text/plain": [
       "'hobbi'"
      ]
     },
     "execution_count": 28,
     "metadata": {},
     "output_type": "execute_result"
    }
   ],
   "source": [
    "porter.stem('hobbies')"
   ]
  },
  {
   "cell_type": "code",
   "execution_count": 29,
   "id": "e7bb9a04",
   "metadata": {},
   "outputs": [
    {
     "data": {
      "text/plain": [
       "'walk'"
      ]
     },
     "execution_count": 29,
     "metadata": {},
     "output_type": "execute_result"
    }
   ],
   "source": [
    "lancer.stem('walking')"
   ]
  },
  {
   "cell_type": "code",
   "execution_count": 30,
   "id": "e6d04817",
   "metadata": {},
   "outputs": [
    {
     "data": {
      "text/plain": [
       "'walk'"
      ]
     },
     "execution_count": 30,
     "metadata": {},
     "output_type": "execute_result"
    }
   ],
   "source": [
    "lancer.stem('Walking')"
   ]
  },
  {
   "cell_type": "code",
   "execution_count": 31,
   "id": "692e354b",
   "metadata": {},
   "outputs": [
    {
     "data": {
      "text/plain": [
       "'sung'"
      ]
     },
     "execution_count": 31,
     "metadata": {},
     "output_type": "execute_result"
    }
   ],
   "source": [
    "lancer.stem('sung')"
   ]
  },
  {
   "cell_type": "code",
   "execution_count": 32,
   "id": "00116824",
   "metadata": {},
   "outputs": [
    {
     "data": {
      "text/plain": [
       "'comput'"
      ]
     },
     "execution_count": 32,
     "metadata": {},
     "output_type": "execute_result"
    }
   ],
   "source": [
    "lancer.stem('computer')"
   ]
  },
  {
   "cell_type": "code",
   "execution_count": 33,
   "id": "979f5aee",
   "metadata": {},
   "outputs": [
    {
     "data": {
      "text/plain": [
       "'comput'"
      ]
     },
     "execution_count": 33,
     "metadata": {},
     "output_type": "execute_result"
    }
   ],
   "source": [
    "porter.stem('computer')"
   ]
  },
  {
   "cell_type": "code",
   "execution_count": 34,
   "id": "6606855f",
   "metadata": {},
   "outputs": [
    {
     "data": {
      "text/plain": [
       "'comput'"
      ]
     },
     "execution_count": 34,
     "metadata": {},
     "output_type": "execute_result"
    }
   ],
   "source": [
    "snowball.stem('computer')"
   ]
  },
  {
   "cell_type": "code",
   "execution_count": 35,
   "id": "1d0824fc",
   "metadata": {},
   "outputs": [
    {
     "data": {
      "text/plain": [
       "'arvind'"
      ]
     },
     "execution_count": 35,
     "metadata": {},
     "output_type": "execute_result"
    }
   ],
   "source": [
    "snowball.stem('Arvind')"
   ]
  },
  {
   "cell_type": "code",
   "execution_count": 36,
   "id": "1ef50f87",
   "metadata": {},
   "outputs": [
    {
     "data": {
      "text/plain": [
       "'scienc'"
      ]
     },
     "execution_count": 36,
     "metadata": {},
     "output_type": "execute_result"
    }
   ],
   "source": [
    "snowball.stem('Science')"
   ]
  },
  {
   "cell_type": "code",
   "execution_count": 37,
   "id": "968cd7ba",
   "metadata": {},
   "outputs": [
    {
     "data": {
      "text/plain": [
       "'scienc'"
      ]
     },
     "execution_count": 37,
     "metadata": {},
     "output_type": "execute_result"
    }
   ],
   "source": [
    "porter.stem('Science')"
   ]
  },
  {
   "cell_type": "code",
   "execution_count": 38,
   "id": "6f690316",
   "metadata": {},
   "outputs": [],
   "source": [
    "from nltk.stem import WordNetLemmatizer"
   ]
  },
  {
   "cell_type": "code",
   "execution_count": 39,
   "id": "9728dd54",
   "metadata": {},
   "outputs": [
    {
     "data": {
      "text/plain": [
       "'running'"
      ]
     },
     "execution_count": 39,
     "metadata": {},
     "output_type": "execute_result"
    }
   ],
   "source": [
    "lemma=WordNetLemmatizer()\n",
    "lemma.lemmatize('running')"
   ]
  },
  {
   "cell_type": "code",
   "execution_count": 40,
   "id": "8aace9b1",
   "metadata": {},
   "outputs": [
    {
     "name": "stderr",
     "output_type": "stream",
     "text": [
      "[nltk_data] Downloading package wordnet to\n",
      "[nltk_data]     C:\\Users\\arvin\\AppData\\Roaming\\nltk_data...\n",
      "[nltk_data]   Package wordnet is already up-to-date!\n"
     ]
    },
    {
     "data": {
      "text/plain": [
       "True"
      ]
     },
     "execution_count": 40,
     "metadata": {},
     "output_type": "execute_result"
    }
   ],
   "source": [
    "nltk.download('wordnet')"
   ]
  },
  {
   "cell_type": "code",
   "execution_count": 41,
   "id": "221ac5da",
   "metadata": {},
   "outputs": [
    {
     "data": {
      "text/plain": [
       "'running'"
      ]
     },
     "execution_count": 41,
     "metadata": {},
     "output_type": "execute_result"
    }
   ],
   "source": [
    "lemma=WordNetLemmatizer()  # lemma convert the word to base word\n",
    "lemma.lemmatize('running')"
   ]
  },
  {
   "cell_type": "code",
   "execution_count": 42,
   "id": "97b821c0",
   "metadata": {},
   "outputs": [
    {
     "data": {
      "text/plain": [
       "'go'"
      ]
     },
     "execution_count": 42,
     "metadata": {},
     "output_type": "execute_result"
    }
   ],
   "source": [
    "lemma.lemmatize('go')"
   ]
  },
  {
   "cell_type": "code",
   "execution_count": 43,
   "id": "54f45e81",
   "metadata": {},
   "outputs": [
    {
     "data": {
      "text/plain": [
       "'went'"
      ]
     },
     "execution_count": 43,
     "metadata": {},
     "output_type": "execute_result"
    }
   ],
   "source": [
    "lemma.lemmatize('went')"
   ]
  },
  {
   "cell_type": "code",
   "execution_count": 44,
   "id": "9b53ebde",
   "metadata": {},
   "outputs": [
    {
     "data": {
      "text/plain": [
       "'go'"
      ]
     },
     "execution_count": 44,
     "metadata": {},
     "output_type": "execute_result"
    }
   ],
   "source": [
    "lemma.lemmatize('went', pos='v')"
   ]
  },
  {
   "cell_type": "code",
   "execution_count": 45,
   "id": "1d9f94a6",
   "metadata": {},
   "outputs": [
    {
     "data": {
      "text/plain": [
       "'run'"
      ]
     },
     "execution_count": 45,
     "metadata": {},
     "output_type": "execute_result"
    }
   ],
   "source": [
    "lemma.lemmatize('running', pos='v')"
   ]
  },
  {
   "cell_type": "code",
   "execution_count": 46,
   "id": "48877ed1",
   "metadata": {},
   "outputs": [
    {
     "data": {
      "text/plain": [
       "'gone'"
      ]
     },
     "execution_count": 46,
     "metadata": {},
     "output_type": "execute_result"
    }
   ],
   "source": [
    "lemma.lemmatize('gone')"
   ]
  },
  {
   "cell_type": "code",
   "execution_count": 47,
   "id": "59f021df",
   "metadata": {},
   "outputs": [
    {
     "data": {
      "text/plain": [
       "'go'"
      ]
     },
     "execution_count": 47,
     "metadata": {},
     "output_type": "execute_result"
    }
   ],
   "source": [
    "lemma.lemmatize('gone', pos='v')"
   ]
  },
  {
   "cell_type": "code",
   "execution_count": 48,
   "id": "6f337212",
   "metadata": {},
   "outputs": [
    {
     "data": {
      "text/plain": [
       "'Gone'"
      ]
     },
     "execution_count": 48,
     "metadata": {},
     "output_type": "execute_result"
    }
   ],
   "source": [
    "lemma.lemmatize('Gone', pos='v') # case sensitive"
   ]
  },
  {
   "cell_type": "code",
   "execution_count": 49,
   "id": "c74ea7d8",
   "metadata": {},
   "outputs": [
    {
     "data": {
      "text/plain": [
       "'computer'"
      ]
     },
     "execution_count": 49,
     "metadata": {},
     "output_type": "execute_result"
    }
   ],
   "source": [
    "lemma.lemmatize('computer', pos='v')"
   ]
  },
  {
   "cell_type": "markdown",
   "id": "188c3a09",
   "metadata": {},
   "source": [
    "#  Named Entity Recognition (NER)"
   ]
  },
  {
   "cell_type": "code",
   "execution_count": 50,
   "id": "cf261c99",
   "metadata": {},
   "outputs": [],
   "source": [
    "sent=\"India, officially the Mumbai of India, is a country in South Asia\""
   ]
  },
  {
   "cell_type": "code",
   "execution_count": null,
   "id": "674f2abd",
   "metadata": {},
   "outputs": [
    {
     "name": "stdout",
     "output_type": "stream",
     "text": [
      "(S\n",
      "  (GPE India/NNP)\n",
      "  ,/,\n",
      "  officially/RB\n",
      "  the/DT\n",
      "  (ORGANIZATION Mumbai/NNP)\n",
      "  of/IN\n",
      "  (GPE India/NNP)\n",
      "  ,/,\n",
      "  is/VBZ\n",
      "  a/DT\n",
      "  country/NN\n",
      "  in/IN\n",
      "  (GPE South/NNP Asia/NNP))\n"
     ]
    }
   ],
   "source": [
    "words= nltk.word_tokenize(sent)\n",
    "pos_tag=nltk.pos_tag(words)\n",
    "namedEntity=nltk.ne_chunk(pos_tag)\n",
    "print(namedEntity)\n",
    "namedEntity.draw()"
   ]
  },
  {
   "cell_type": "code",
   "execution_count": null,
   "id": "0af243b1",
   "metadata": {},
   "outputs": [],
   "source": [
    "nltk.download('maxent_ne_chunker')"
   ]
  },
  {
   "cell_type": "code",
   "execution_count": null,
   "id": "bdcf4845",
   "metadata": {},
   "outputs": [],
   "source": [
    "nltk.download('words')"
   ]
  },
  {
   "cell_type": "code",
   "execution_count": 51,
   "id": "352f6163",
   "metadata": {},
   "outputs": [],
   "source": [
    "grammar = nltk.CFG.fromstring(\"\"\"\n",
    "S -> NP VP\n",
    "VP ->V NP | V NP PP\n",
    "PP -> P NP\n",
    "V -> \"saw\" |\"slept\" | \"walked\"\n",
    "NP -> \"Rahul\" | \"Anjali\" | Det N PP\n",
    "Det -> \"a\" | \"an\" | \"the\" | \"my\"\n",
    "N -> \"man\" | \"dog\" | \"cat\" | \"telescope\" | \"park\"\n",
    "P -> \"in\" | \"on\" | \"by\" | \"with\"\n",
    "\"\"\")"
   ]
  },
  {
   "cell_type": "code",
   "execution_count": 52,
   "id": "0d04a487",
   "metadata": {},
   "outputs": [],
   "source": [
    "sent=\" Rahul saw Anjali with a dog\".split()\n",
    "parser = nltk.RecursiveDescentParser(grammar)\n",
    "for tree in parser.parse(sent):\n",
    "    print(tree)\n",
    "    tree.draw()"
   ]
  },
  {
   "cell_type": "markdown",
   "id": "0eb57717",
   "metadata": {},
   "source": [
    "#  Word Vectorization (word Embedding)"
   ]
  },
  {
   "cell_type": "markdown",
   "id": "3a139e8a",
   "metadata": {},
   "source": [
    "Bag of word, \n",
    "n-gram model, tf-idf"
   ]
  },
  {
   "cell_type": "code",
   "execution_count": null,
   "id": "7300a8c8",
   "metadata": {},
   "outputs": [],
   "source": []
  }
 ],
 "metadata": {
  "kernelspec": {
   "display_name": "Python 3 (ipykernel)",
   "language": "python",
   "name": "python3"
  },
  "language_info": {
   "codemirror_mode": {
    "name": "ipython",
    "version": 3
   },
   "file_extension": ".py",
   "mimetype": "text/x-python",
   "name": "python",
   "nbconvert_exporter": "python",
   "pygments_lexer": "ipython3",
   "version": "3.11.4"
  }
 },
 "nbformat": 4,
 "nbformat_minor": 5
}
